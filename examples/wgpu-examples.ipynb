{
 "cells": [
  {
   "cell_type": "markdown",
   "id": "afd9b3fd",
   "metadata": {},
   "source": [
    "# WGPU notebook examples"
   ]
  },
  {
   "cell_type": "markdown",
   "id": "2e610ab9",
   "metadata": {},
   "source": [
    "## Triangle example\n",
    "\n",
    "We import the triangle example and show it in the notebook."
   ]
  },
  {
   "cell_type": "code",
   "execution_count": null,
   "id": "c6e4ffe0",
   "metadata": {},
   "outputs": [],
   "source": [
    "from wgpu.gui.auto import WgpuCanvas, run\n",
    "import triangle\n",
    "\n",
    "canvas = WgpuCanvas(size=(640, 480), title=\"wgpu triangle with GLFW\")\n",
    "\n",
    "triangle.main(canvas)\n",
    "canvas"
   ]
  },
  {
   "cell_type": "markdown",
   "id": "e120b752",
   "metadata": {},
   "source": [
    "## Cube example\n",
    "\n",
    "An interactive example this time."
   ]
  },
  {
   "cell_type": "code",
   "execution_count": null,
   "id": "e4f9f67d",
   "metadata": {},
   "outputs": [],
   "source": [
    "from cube import canvas\n",
    "\n",
    "canvas"
   ]
  },
  {
   "cell_type": "markdown",
   "id": "749ffb40",
   "metadata": {},
   "source": [
    "## Event example\n",
    "\n",
    "The code below is a copy from `show_events.py`. It is just to show how events are handled. These events are the same accross all auto-backends."
   ]
  },
  {
   "cell_type": "code",
   "execution_count": null,
   "id": "c858215a",
   "metadata": {},
   "outputs": [],
   "source": [
    "from wgpu.gui.auto import WgpuCanvas, run\n",
    "\n",
    "class MyCanvas(WgpuCanvas):\n",
    "    def handle_event(self, event):\n",
    "        if event[\"event_type\"] != \"pointer_move\":\n",
    "            print(event)\n",
    "\n",
    "canvas = MyCanvas(size=(640, 480), title=\"wgpu triangle with GLFW\")\n",
    "canvas"
   ]
  },
  {
   "cell_type": "code",
   "execution_count": null,
   "id": "6b92d13b",
   "metadata": {},
   "outputs": [],
   "source": []
  }
 ],
 "metadata": {
  "kernelspec": {
   "display_name": "Python 3 (ipykernel)",
   "language": "python",
   "name": "python3"
  },
  "language_info": {
   "codemirror_mode": {
    "name": "ipython",
    "version": 3
   },
   "file_extension": ".py",
   "mimetype": "text/x-python",
   "name": "python",
   "nbconvert_exporter": "python",
   "pygments_lexer": "ipython3",
   "version": "3.9.9"
  }
 },
 "nbformat": 4,
 "nbformat_minor": 5
}
